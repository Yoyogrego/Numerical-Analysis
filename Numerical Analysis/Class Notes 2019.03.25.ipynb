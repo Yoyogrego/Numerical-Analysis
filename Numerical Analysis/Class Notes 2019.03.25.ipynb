{
 "cells": [
  {
   "cell_type": "code",
   "execution_count": 3,
   "metadata": {},
   "outputs": [],
   "source": [
    "import numpy as np\n",
    "import matplotlib.pyplot as plt"
   ]
  },
  {
   "cell_type": "code",
   "execution_count": 4,
   "metadata": {},
   "outputs": [],
   "source": [
    "def newton(f,df,x0,tol=1e-10):\n",
    "    xn = x0\n",
    "    p = np.linalg.solve(df(xn),f(xn))\n",
    "    while np.linalg.norm(p) > tol:\n",
    "        xn -= p\n",
    "        print(np.linalg.norm(p))\n",
    "        p = np.linalg.solve(df(xn),f(xn))\n",
    "    xn -= p\n",
    "    return xn"
   ]
  },
  {
   "cell_type": "markdown",
   "metadata": {},
   "source": [
    "### Solve\n",
    "$$\n",
    "\\begin{align}\n",
    "    16x^4+16y^4+z^4 &= 16\\cr\n",
    "    x^2+y^2+z^2&=3\\cr\n",
    "    x^3-y &= 0\\cr\n",
    "\\end{align}\n",
    "$$"
   ]
  },
  {
   "cell_type": "code",
   "execution_count": 5,
   "metadata": {},
   "outputs": [],
   "source": [
    "def f(x_vec):\n",
    "    x,y,z = x_vec\n",
    "    return np.array([\n",
    "        16*x**4 + 16*y**4 + z**4 - 16,\n",
    "        x**2 + y**2 + z**2 - 3,\n",
    "        x**3 - y\n",
    "    ])\n",
    "def df(x_vec):\n",
    "    x,y,z = x_vec\n",
    "    return np.array([[64*x**3, 64*y**3, 4*z**3],\n",
    "                    [2*x ,2*y, 2*z],\n",
    "                    [3*x**2, -1, 0]])"
   ]
  },
  {
   "cell_type": "code",
   "execution_count": 6,
   "metadata": {},
   "outputs": [
    {
     "name": "stdout",
     "output_type": "stream",
     "text": [
      "0.3611805488794889\n",
      "0.10989718161721007\n",
      "0.020696294061051782\n",
      "0.0005736362942126308\n",
      "4.5239184554373185e-07\n"
     ]
    },
    {
     "data": {
      "text/plain": [
       "array([0.87796576, 0.67675697, 1.33085541])"
      ]
     },
     "execution_count": 6,
     "metadata": {},
     "output_type": "execute_result"
    }
   ],
   "source": [
    "x0 = np.array([1.,1.,1.])\n",
    "newton(f,df,x0)"
   ]
  },
  {
   "cell_type": "code",
   "execution_count": 7,
   "metadata": {},
   "outputs": [
    {
     "data": {
      "text/plain": [
       "array([0., 0., 0.])"
      ]
     },
     "execution_count": 7,
     "metadata": {},
     "output_type": "execute_result"
    }
   ],
   "source": [
    "f(_)"
   ]
  },
  {
   "cell_type": "code",
   "execution_count": 8,
   "metadata": {},
   "outputs": [
    {
     "name": "stdout",
     "output_type": "stream",
     "text": [
      "Help on function vander in module numpy:\n",
      "\n",
      "vander(x, N=None, increasing=False)\n",
      "    Generate a Vandermonde matrix.\n",
      "    \n",
      "    The columns of the output matrix are powers of the input vector. The\n",
      "    order of the powers is determined by the `increasing` boolean argument.\n",
      "    Specifically, when `increasing` is False, the `i`-th output column is\n",
      "    the input vector raised element-wise to the power of ``N - i - 1``. Such\n",
      "    a matrix with a geometric progression in each row is named for Alexandre-\n",
      "    Theophile Vandermonde.\n",
      "    \n",
      "    Parameters\n",
      "    ----------\n",
      "    x : array_like\n",
      "        1-D input array.\n",
      "    N : int, optional\n",
      "        Number of columns in the output.  If `N` is not specified, a square\n",
      "        array is returned (``N = len(x)``).\n",
      "    increasing : bool, optional\n",
      "        Order of the powers of the columns.  If True, the powers increase\n",
      "        from left to right, if False (the default) they are reversed.\n",
      "    \n",
      "        .. versionadded:: 1.9.0\n",
      "    \n",
      "    Returns\n",
      "    -------\n",
      "    out : ndarray\n",
      "        Vandermonde matrix.  If `increasing` is False, the first column is\n",
      "        ``x^(N-1)``, the second ``x^(N-2)`` and so forth. If `increasing` is\n",
      "        True, the columns are ``x^0, x^1, ..., x^(N-1)``.\n",
      "    \n",
      "    See Also\n",
      "    --------\n",
      "    polynomial.polynomial.polyvander\n",
      "    \n",
      "    Examples\n",
      "    --------\n",
      "    >>> x = np.array([1, 2, 3, 5])\n",
      "    >>> N = 3\n",
      "    >>> np.vander(x, N)\n",
      "    array([[ 1,  1,  1],\n",
      "           [ 4,  2,  1],\n",
      "           [ 9,  3,  1],\n",
      "           [25,  5,  1]])\n",
      "    \n",
      "    >>> np.column_stack([x**(N-1-i) for i in range(N)])\n",
      "    array([[ 1,  1,  1],\n",
      "           [ 4,  2,  1],\n",
      "           [ 9,  3,  1],\n",
      "           [25,  5,  1]])\n",
      "    \n",
      "    >>> x = np.array([1, 2, 3, 5])\n",
      "    >>> np.vander(x)\n",
      "    array([[  1,   1,   1,   1],\n",
      "           [  8,   4,   2,   1],\n",
      "           [ 27,   9,   3,   1],\n",
      "           [125,  25,   5,   1]])\n",
      "    >>> np.vander(x, increasing=True)\n",
      "    array([[  1,   1,   1,   1],\n",
      "           [  1,   2,   4,   8],\n",
      "           [  1,   3,   9,  27],\n",
      "           [  1,   5,  25, 125]])\n",
      "    \n",
      "    The determinant of a square Vandermonde matrix is the product\n",
      "    of the differences between the values of the input vector:\n",
      "    \n",
      "    >>> np.linalg.det(np.vander(x))\n",
      "    48.000000000000043\n",
      "    >>> (5-3)*(5-2)*(5-1)*(3-2)*(3-1)*(2-1)\n",
      "    48\n",
      "\n"
     ]
    }
   ],
   "source": [
    "help(np.vander)"
   ]
  },
  {
   "cell_type": "code",
   "execution_count": 9,
   "metadata": {},
   "outputs": [
    {
     "data": {
      "text/plain": [
       "array([[ 1,  1,  1,  1],\n",
       "       [ 8,  4,  2,  1],\n",
       "       [27,  9,  3,  1],\n",
       "       [64, 16,  4,  1]])"
      ]
     },
     "execution_count": 9,
     "metadata": {},
     "output_type": "execute_result"
    }
   ],
   "source": [
    "np.vander([1,2,3,4])"
   ]
  },
  {
   "cell_type": "code",
   "execution_count": 10,
   "metadata": {},
   "outputs": [
    {
     "data": {
      "text/plain": [
       "array([  3. , -24.5,  58.5, -36. ])"
      ]
     },
     "execution_count": 10,
     "metadata": {},
     "output_type": "execute_result"
    }
   ],
   "source": [
    "x = [1,2,3,4]\n",
    "y = [1,7,0,-2]\n",
    "A = np.vander(x)\n",
    "c = np.linalg.solve(A,y)\n",
    "c"
   ]
  },
  {
   "cell_type": "code",
   "execution_count": 18,
   "metadata": {},
   "outputs": [],
   "source": [
    "def horner(x,c):\n",
    "    y = c[0]\n",
    "    for ck in c[1:]:\n",
    "        y = y * x + ck\n",
    "    return y"
   ]
  },
  {
   "cell_type": "code",
   "execution_count": 20,
   "metadata": {},
   "outputs": [
    {
     "data": {
      "text/plain": [
       "[<matplotlib.lines.Line2D at 0x7ff172f32e80>,\n",
       " <matplotlib.lines.Line2D at 0x7ff172f32550>]"
      ]
     },
     "execution_count": 20,
     "metadata": {},
     "output_type": "execute_result"
    },
    {
     "data": {
      "image/png": "[encoded data removed]",
      "text/plain": [
       "<Figure size 432x288 with 1 Axes>"
      ]
     },
     "metadata": {
      "needs_background": "light"
     },
     "output_type": "display_data"
    }
   ],
   "source": [
    "t = np.linspace(0.5,4.5)\n",
    "plt.plot(t,horner(t,c),x,y,'r.')"
   ]
  },
  {
   "cell_type": "code",
   "execution_count": 54,
   "metadata": {},
   "outputs": [],
   "source": [
    "n = 25\n",
    "x = np.random.rand(n)\n",
    "#y = np.random.randn(n)\n",
    "y = np.exp(x)*np.sin(10*x)\n",
    "A = np.vander(x)\n",
    "c = np.linalg.solve(A,y)"
   ]
  },
  {
   "cell_type": "code",
   "execution_count": 55,
   "metadata": {},
   "outputs": [
    {
     "data": {
      "text/plain": [
       "(-3, 3)"
      ]
     },
     "execution_count": 55,
     "metadata": {},
     "output_type": "execute_result"
    },
    {
     "data": {
      "image/png": "[encoded data removed]",
      "text/plain": [
       "<Figure size 432x288 with 1 Axes>"
      ]
     },
     "metadata": {
      "needs_background": "light"
     },
     "output_type": "display_data"
    }
   ],
   "source": [
    "t = np.linspace(min(x),max(x))\n",
    "plt.plot(t,horner(t,c),x,y,'r.')\n",
    "plt.ylim([-3,3])\n"
   ]
  },
  {
   "cell_type": "code",
   "execution_count": 56,
   "metadata": {},
   "outputs": [
    {
     "data": {
      "text/plain": [
       "4.987565077463697e+18"
      ]
     },
     "execution_count": 56,
     "metadata": {},
     "output_type": "execute_result"
    }
   ],
   "source": [
    "np.linalg.cond(A)"
   ]
  },
  {
   "cell_type": "code",
   "execution_count": 57,
   "metadata": {},
   "outputs": [
    {
     "data": {
      "text/plain": [
       "array([-3.39697534e+03,  3.03568752e+04, -1.25847559e+05,  3.22186136e+05,\n",
       "       -5.74324962e+05,  7.68420354e+05, -8.24720972e+05,  7.62987577e+05,\n",
       "       -6.48692252e+05,  5.16749835e+05, -3.74407935e+05,  2.37882387e+05,\n",
       "       -1.27954069e+05,  5.36260989e+04, -1.69435701e+04,  7.29630317e+03,\n",
       "       -3.08506827e+03, -1.35657452e+03,  7.76464452e+02,  7.53274739e+02,\n",
       "       -1.65190423e+02, -1.61659366e+02,  9.99993329e+00,  9.99999466e+00,\n",
       "        1.35126212e-07])"
      ]
     },
     "execution_count": 57,
     "metadata": {},
     "output_type": "execute_result"
    }
   ],
   "source": [
    "c"
   ]
  },
  {
   "cell_type": "code",
   "execution_count": null,
   "metadata": {},
   "outputs": [],
   "source": []
  }
 ],
 "metadata": {
  "kernelspec": {
   "display_name": "Python 3",
   "language": "python",
   "name": "python3"
  },
  "language_info": {
   "codemirror_mode": {
    "name": "ipython",
    "version": 3
   },
   "file_extension": ".py",
   "mimetype": "text/x-python",
   "name": "python",
   "nbconvert_exporter": "python",
   "pygments_lexer": "ipython3",
   "version": "3.7.1"
  }
 },
 "nbformat": 4,
 "nbformat_minor": 2
}
