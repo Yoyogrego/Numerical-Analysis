{
 "cells": [
  {
   "cell_type": "code",
   "execution_count": 1,
   "metadata": {},
   "outputs": [],
   "source": [
    "import numpy as np\n",
    "import matplotlib.pyplot as plt"
   ]
  },
  {
   "cell_type": "code",
   "execution_count": 2,
   "metadata": {},
   "outputs": [],
   "source": [
    "def locate(t,x,g=0):\n",
    "    if x[g]<=t and t<=x[g+1]:\n",
    "        return g\n",
    "    left = 0\n",
    "    right = len(x)-1\n",
    "    while right>left+1:\n",
    "        mid = (right+left)//2\n",
    "        if t >= x[mid]:\n",
    "            left = mid\n",
    "        else:\n",
    "            right = mid\n",
    "    return left\n",
    "\n",
    "def pwC(x,y,s):\n",
    "    s = np.array(s)\n",
    "    y = np.array(y)\n",
    "    dx = np.diff(x)\n",
    "    dy = np.diff(y)\n",
    "    yp = dy/dx\n",
    "    a = y[:-1]\n",
    "    b = s[:-1]\n",
    "    c = (yp-s[:-1])/dx\n",
    "    d = (s[:-1]+s[1:]-2*yp)/(dx*dx)\n",
    "    return [a,b,c,d]\n",
    "\n",
    "def pwCEval(t,x,coef):\n",
    "    ta = np.array(t)\n",
    "    a,b,c,d = coef\n",
    "    result = np.empty(ta.size)\n",
    "    i = 0\n",
    "    for tk,k in zip(ta,range(ta.size)):\n",
    "        i = locate(tk,x,i)\n",
    "        result[k] = d[i]*(tk-x[i+1])+c[i]\n",
    "        result[k] = result[k]*(tk-x[i])+b[i]\n",
    "        result[k] = result[k]*(tk-x[i])+a[i]\n",
    "    return result"
   ]
  },
  {
   "cell_type": "code",
   "execution_count": 3,
   "metadata": {},
   "outputs": [],
   "source": [
    "def MyCubicSpline(x,y,der=3,muL=0,muR=0):\n",
    "    y = np.array(y)\n",
    "    dx = np.diff(x)\n",
    "    dy = np.diff(y)\n",
    "    yp = dy/dx\n",
    "    A = np.diag(2*(dx[1:]+dx[:-1]))+np.diag(dx[2:],-1)+np.diag(dx[:-2],1)\n",
    "    b = 3*(dx[:-1]*yp[1:]+dx[1:]*yp[:-1])\n",
    "    if der == 1:\n",
    "        b[0]  -= dx[1]*muL\n",
    "        b[-1] -= dx[-2]*muR\n",
    "        s = np.linalg.solve(A,b)\n",
    "        s = np.hstack((muL,s,muR))\n",
    "    elif der == 2:\n",
    "        bd1 = (6*yp[0]-muL*dx[0])/4\n",
    "        b[0] -= dx[1]*bd1\n",
    "        A[0,0] -= dx[1]/2\n",
    "        bdn = (6*yp[-1]-muL*dx[-1])/4\n",
    "        b[-1] -= dx[-2]*bdn\n",
    "        A[-1,-1] -= dx[-2]/2\n",
    "        s = np.linalg.solve(A,b)\n",
    "        s = np.hstack((bd1-s[0]/2,s,bdn-s[-1]/2))\n",
    "    elif der==3:\n",
    "        q = dx[0]*dx[0]/dx[1]\n",
    "        b[0] -= 2*(yp[0]*dx[1]-yp[1]*q)\n",
    "        A[0,0] += q-dx[1]\n",
    "        A[0,1] += q\n",
    "        q = dx[-1]*dx[-1]/dx[-2]\n",
    "        b[-1] -= 2*(yp[-1]*dx[-2]-yp[-2]*q)\n",
    "        A[-1,-1] += q-dx[-2]\n",
    "        A[-1,-2] += q\n",
    "        s = np.linalg.solve(A,b)\n",
    "        sL = 2*yp[0]-s[0]+((dx[0]/dx[1])**2)*(s[0]+s[1]-2*yp[1])\n",
    "        sR = 2*yp[-1]-s[-1]+((dx[-1]/dx[-2])**2)*(s[-1]+s[-2]-2*yp[-2])\n",
    "        s = np.hstack((sL,s,sR))\n",
    "    else:\n",
    "        print('d must be one of 1, 2 or 3')\n",
    "        return None\n",
    "    a = y[:-1]\n",
    "    b = s[:-1]\n",
    "    c = (yp-s[:-1])/dx\n",
    "    d = (s[:-1] + s[1:]-2*yp)/(dx*dx)\n",
    "    return a,b,c,d"
   ]
  },
  {
   "cell_type": "code",
   "execution_count": null,
   "metadata": {},
   "outputs": [],
   "source": []
  }
 ],
 "metadata": {
  "kernelspec": {
   "display_name": "Python 3",
   "language": "python",
   "name": "python3"
  },
  "language_info": {
   "codemirror_mode": {
    "name": "ipython",
    "version": 3
   },
   "file_extension": ".py",
   "mimetype": "text/x-python",
   "name": "python",
   "nbconvert_exporter": "python",
   "pygments_lexer": "ipython3",
   "version": "3.7.1"
  }
 },
 "nbformat": 4,
 "nbformat_minor": 2
}
