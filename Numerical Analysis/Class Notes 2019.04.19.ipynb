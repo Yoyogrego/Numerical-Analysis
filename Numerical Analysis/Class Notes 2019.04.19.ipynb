{
 "cells": [
  {
   "cell_type": "code",
   "execution_count": 1,
   "metadata": {},
   "outputs": [],
   "source": [
    "import numpy as np\n",
    "import matplotlib.pyplot as plt"
   ]
  },
  {
   "cell_type": "code",
   "execution_count": 2,
   "metadata": {},
   "outputs": [],
   "source": [
    "def NCweights(m):\n",
    "    \"\"\"\n",
    "    NCweights(m)\n",
    "        m is an integer that satisfies 2 <= m <= 13.\n",
    "        returns a numpy array consisting of the weights for the m-point Newton-Cotes rule.\n",
    "    Based on Matlab code of Charles Van Loan from Introduction to Scientific Computing: A\n",
    "    Matrix-Vector Approach Using Matlab.\n",
    "    \"\"\"\n",
    "    if m==2:\n",
    "        return np.array([1,1])/2\n",
    "    elif m==3:\n",
    "        return np.array([1,4,1])/6\n",
    "    elif m==4:\n",
    "        return np.array([1,3,3,1])/8\n",
    "    elif m==5:\n",
    "        return np.array([7,32,12,32,7])/90\n",
    "    elif m==6:\n",
    "        return np.array([19,75,50,50,75,19])/288\n",
    "    elif m==7:\n",
    "        return np.array([41,216,27,272,27,216,41])/840\n",
    "    elif m==8:\n",
    "        return np.array([751,3577,1323,2989,2989,1323,3577,751])/17280\n",
    "    elif m==9:\n",
    "        return np.array([989,5888,-928,10496,-4540,10496,-928,5888,989])/28350\n",
    "    elif m==10:\n",
    "        return np.array([2857,15741,1080,19344,5778,5778,19344,1080,15741,2857])/89600\n",
    "    elif m==11:\n",
    "        return np.array([16067,106300,-48525,272400,-260550,427368,-260550,272400,-48525,106300,16067])/598752\n",
    "    # Additional\n",
    "    elif m==12:\n",
    "        return np.array([2171465,13486539,-3237113,25226685,-9595542,15493566,\n",
    "                    15493566,-9595542,25226685,-3237113,13486539,2171465])/87091200\n",
    "    elif m==13:\n",
    "        return np.array([1364651,9903168,-7587864,35725120,-51491295,87516288,\n",
    "                    -87797136,87516288,-51491295,35725120,-7587864,9903168,\n",
    "                    1364651])/63063000\n",
    "    else:\n",
    "        return None"
   ]
  },
  {
   "cell_type": "code",
   "execution_count": 3,
   "metadata": {},
   "outputs": [],
   "source": [
    "def QNC(f,a,b,m=3):\n",
    "    t = np.linspace(a,b,m)\n",
    "    return (b-a)*f(t).dot(NCweights(m))"
   ]
  },
  {
   "cell_type": "code",
   "execution_count": 4,
   "metadata": {},
   "outputs": [],
   "source": [
    "def NCOpenWeights(m):\n",
    "    \"\"\"\n",
    "    NCOpenWeights(m)\n",
    "\n",
    "        returns a numpy array consisting of the weights for the m-point open\n",
    "        Newton-Cotes rule.\n",
    "        m is an integer that satisfies 1 <= m <= 11.\n",
    "    Based on Matlab code of Charles Van Loan from Introduction to Scientific Computing: A\n",
    "    Matrix-Vector Approach Using Matlab.\n",
    "    \"\"\"\n",
    "    if m==1:\n",
    "        return np.array([1])\n",
    "    elif m==2:\n",
    "        return np.array([1,1])/2\n",
    "    elif m==3:\n",
    "        return np.array([2,-1,2])/3\n",
    "    elif m==4:\n",
    "        return np.array([11,1,1,11])/24\n",
    "    elif m==5:\n",
    "        return np.array([11,-14,26,-14,11])/20\n",
    "    elif m==6:\n",
    "        return np.array([611,-453,562,562,-453,611])/1440\n",
    "    elif m==7:\n",
    "        return np.array([460,-954,2196,-2459,2196,-954,460])/945\n",
    "    # Additional\n",
    "    elif m==8:\n",
    "        return np.array([1787,-2803,4967,-1711,-1711,4967,-2803,1787])/4480\n",
    "    elif m==9:\n",
    "        return np.array([4045,-11690,33340,-55070,67822,-55070,33340,-11690,4045])/9072\n",
    "    elif m==10:\n",
    "        return np.array([2752477,-6603199,15673880,-17085616,8891258,8891258,-17085616,\n",
    "                         15673880,-6603199,2752477])/7257600\n",
    "    elif m==11:\n",
    "        return np.array([9626,-35771,123058,-266298,427956,-494042,427956,-266298,123058,\n",
    "                         -35771,9626])/23100\n",
    "    else:\n",
    "        return None"
   ]
  },
  {
   "cell_type": "code",
   "execution_count": 5,
   "metadata": {},
   "outputs": [],
   "source": [
    "def QNCOpen(f,a,b,m):\n",
    "    x = np.linspace(a,b,m+2)[1:-1]\n",
    "    w = NCOpenWeights(m)\n",
    "    return (b-a)*f(x).dot(w)"
   ]
  },
  {
   "cell_type": "code",
   "execution_count": 6,
   "metadata": {},
   "outputs": [],
   "source": [
    "def NCerror(a,b,m,M=1):\n",
    "    \"\"\"\n",
    "    NCerror(a,b,m,M)\n",
    "    The error bound for the m-point Newton Cotes rule when applied to\n",
    "    the integral from a to b of a function f(x). It is assumed that\n",
    "    a<=b and 2<=m<=13. M is an upper bound for the (d+1)-st derivative of the \n",
    "    function f(x) on [a,b] where d = m if m is odd, and m-1 if m is even. \n",
    "    Based on Matlab code of Charles Van Loan from Introduction to Scientific Computing: A\n",
    "    Matrix-Vector Approach Using Matlab.\n",
    "    \"\"\"\n",
    "    d = int(np.floor((m+1)/2)*2-1)\n",
    "    if m==2:\n",
    "        c = -1/12\n",
    "    elif m==3:   \n",
    "        c = -1/90\n",
    "    elif m==4:   \n",
    "        c = -3/80\n",
    "    elif m==5:\n",
    "        c = -8/945\n",
    "    elif m==6:\n",
    "        c = -275/12096\n",
    "    elif m==7:\n",
    "        c = -9/1400\n",
    "    elif m==8:\n",
    "        c = -8183/518400\n",
    "    elif m==9:\n",
    "        c = -2368/467775\n",
    "    elif m==10:\n",
    "        # c = -4671/394240\n",
    "        c = -173/14620\n",
    "    elif m==11:\n",
    "        c = -673175/163459296\n",
    "    # Additional\n",
    "    elif m==12:\n",
    "        c = -2224234463/237758976000\n",
    "    elif m==13:\n",
    "        c = -3012/875875\n",
    "    h = (b-a)/(m-1)\n",
    "    return abs(c*M*h**(d+2)),c,d"
   ]
  },
  {
   "cell_type": "code",
   "execution_count": 7,
   "metadata": {},
   "outputs": [],
   "source": [
    "def NCOpenError(a,b,m,M=1):\n",
    "    \"\"\"\n",
    "    NCerror(a,b,m,M)\n",
    "    The error bound for the m-point Newton Cotes rule when applied to\n",
    "    the integral from a to b of a function f(x). It is assumed that\n",
    "    a<=b and 1<=m<=11. M is an upper bound for the (d+1)-st derivative of the \n",
    "    function f(x) on [a,b] where d = m if m is odd, and m-1 if m is even. \n",
    "    Based on Matlab code of Charles Van Loan from Introduction to Scientific Computing: A\n",
    "    Matrix-Vector Approach Using Matlab.\n",
    "    \"\"\"\n",
    "    d = int(np.floor((m+1)/2)*2-1)\n",
    "    if m==1:\n",
    "        c = 1/3\n",
    "    elif m==2:\n",
    "        c = 3/4\n",
    "        # c = 1/4\n",
    "    elif m==3:   \n",
    "        # c = 28/90 # same\n",
    "        c = 14/45\n",
    "    elif m==4:   \n",
    "        c = 95/144\n",
    "    elif m==5:\n",
    "        c = 41/140\n",
    "    elif m==6:\n",
    "        c = 5257/8640\n",
    "    elif m==7:\n",
    "        c = 3956/14175\n",
    "    # Additional\n",
    "    elif m==8:\n",
    "        c = 25713/44800\n",
    "    elif m==9:\n",
    "        c = 80335/299376\n",
    "    elif m==10:\n",
    "        c = 4777223/8709120\n",
    "    elif m==11:\n",
    "        c = 1364651/5255250\n",
    "    h = (b-a)/(m+1)\n",
    "    return abs(c*M*h**(d+2)),c,d"
   ]
  },
  {
   "cell_type": "code",
   "execution_count": 45,
   "metadata": {},
   "outputs": [],
   "source": [
    "ptlst = []\n",
    "def CompQNC(f,a,b,m,n):\n",
    "    x = np.linspace(a,b,n*(m-1)+1)\n",
    "    ptlst.extend(list(x))\n",
    "    y = f(x)\n",
    "    w = NCweights(m)\n",
    "    result = 0.0\n",
    "    first = 0\n",
    "    last = m\n",
    "    for i in range(n):\n",
    "        result += w.dot(y[first:last])\n",
    "        first = last - 1\n",
    "        last += m - 1\n",
    "    return result * (b-a) / n"
   ]
  },
  {
   "cell_type": "code",
   "execution_count": 16,
   "metadata": {},
   "outputs": [
    {
     "data": {
      "text/plain": [
       "2.0"
      ]
     },
     "execution_count": 16,
     "metadata": {},
     "output_type": "execute_result"
    }
   ],
   "source": [
    "CompQNC(np.sin,0,np.pi,11,4)"
   ]
  },
  {
   "cell_type": "code",
   "execution_count": 18,
   "metadata": {},
   "outputs": [],
   "source": [
    "def AdaptQNC(f,a,b,m,tol=1e-10):\n",
    "    A1 = CompQNC(f,a,b,m,1)\n",
    "    A2 = CompQNC(f,a,b,m,2)\n",
    "    d = int(np.floor((m+1)/2)*2-1)\n",
    "    err = (A1-A2)/(1-2**(d+1))\n",
    "    if abs(err)<=tol:\n",
    "        return A2+err\n",
    "    else:\n",
    "        mid = (a+b)/2\n",
    "        return AdaptQNC(f,a,mid,m,tol/2)+AdaptQNC(f,mid,b,m,tol/2)"
   ]
  },
  {
   "cell_type": "code",
   "execution_count": 23,
   "metadata": {},
   "outputs": [
    {
     "data": {
      "text/plain": [
       "-2.0470292128038636e-12"
      ]
     },
     "execution_count": 23,
     "metadata": {},
     "output_type": "execute_result"
    }
   ],
   "source": [
    "AdaptQNC(np.sin,0,np.pi,3,tol=1e-8)-2"
   ]
  },
  {
   "cell_type": "code",
   "execution_count": 24,
   "metadata": {},
   "outputs": [],
   "source": [
    "def humps(x):\n",
    "    return 1/((x-0.3)**2+0.01) + 1/((x-0.9)**2+0.04) + 6"
   ]
  },
  {
   "cell_type": "code",
   "execution_count": 25,
   "metadata": {},
   "outputs": [
    {
     "data": {
      "text/plain": [
       "[<matplotlib.lines.Line2D at 0x7f8ba6ca5240>]"
      ]
     },
     "execution_count": 25,
     "metadata": {},
     "output_type": "execute_result"
    },
    {
     "data": {
      "image/png": "[encoded data removed]",
      "text/plain": [
       "<matplotlib.figure.Figure at 0x7f8ba8d2cb00>"
      ]
     },
     "metadata": {},
     "output_type": "display_data"
    }
   ],
   "source": [
    "t = np.linspace(0,3,1000)\n",
    "plt.plot(t,humps(t))"
   ]
  },
  {
   "cell_type": "code",
   "execution_count": 49,
   "metadata": {},
   "outputs": [
    {
     "data": {
      "text/plain": [
       "59.966302939033355"
      ]
     },
     "execution_count": 49,
     "metadata": {},
     "output_type": "execute_result"
    }
   ],
   "source": [
    "ptlst = []\n",
    "AdaptQNC(humps,0,3,5,tol=1e-2)"
   ]
  },
  {
   "cell_type": "code",
   "execution_count": 50,
   "metadata": {},
   "outputs": [],
   "source": [
    "pts = np.array(ptlst)\n",
    "pts.sort()"
   ]
  },
  {
   "cell_type": "code",
   "execution_count": 51,
   "metadata": {},
   "outputs": [
    {
     "data": {
      "text/plain": [
       "[<matplotlib.lines.Line2D at 0x7f8ba6ace978>,\n",
       " <matplotlib.lines.Line2D at 0x7f8ba6aceb38>]"
      ]
     },
     "execution_count": 51,
     "metadata": {},
     "output_type": "execute_result"
    },
    {
     "data": {
      "image/png": "[encoded data removed]",
      "text/plain": [
       "<matplotlib.figure.Figure at 0x7f8ba6b19860>"
      ]
     },
     "metadata": {},
     "output_type": "display_data"
    }
   ],
   "source": [
    "plt.plot(t,humps(t),pts,np.zeros(pts.size),'r.')"
   ]
  },
  {
   "cell_type": "code",
   "execution_count": 52,
   "metadata": {},
   "outputs": [
    {
     "data": {
      "text/plain": [
       "182"
      ]
     },
     "execution_count": 52,
     "metadata": {},
     "output_type": "execute_result"
    }
   ],
   "source": [
    "pts.size"
   ]
  },
  {
   "cell_type": "code",
   "execution_count": null,
   "metadata": {},
   "outputs": [],
   "source": []
  }
 ],
 "metadata": {
  "kernelspec": {
   "display_name": "Python 3",
   "language": "python",
   "name": "python3"
  },
  "language_info": {
   "codemirror_mode": {
    "name": "ipython",
    "version": 3
   },
   "file_extension": ".py",
   "mimetype": "text/x-python",
   "name": "python",
   "nbconvert_exporter": "python",
   "pygments_lexer": "ipython3",
   "version": "3.7.1"
  }
 },
 "nbformat": 4,
 "nbformat_minor": 2
}
