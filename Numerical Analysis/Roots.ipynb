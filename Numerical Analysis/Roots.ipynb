{
 "cells": [
  {
   "cell_type": "code",
   "execution_count": 2,
   "metadata": {},
   "outputs": [],
   "source": [
    "import numpy as np\n",
    "import matplotlib.pyplot as plt\n",
    "from imageio import imread\n",
    "from scipy.io import loadmat, savemat\n",
    "from mpl_toolkits.mplot3d import Axes3D\n",
    "#from PIL import Imag"
   ]
  },
  {
   "cell_type": "code",
   "execution_count": 30,
   "metadata": {},
   "outputs": [
    {
     "data": {
      "text/plain": [
       "((8, 8), (8, 8))"
      ]
     },
     "execution_count": 30,
     "metadata": {},
     "output_type": "execute_result"
    }
   ],
   "source": [
    "A = np.vander([1,1.2,1.3,1.5,1.6,1.75,1.8,2.0])\n",
    "B = np.vander(np.linspace(1,2,8))\n",
    "def f(u):\n",
    "    mat = A-(u*u)*B\n",
    "    return np.trace(mat)-np.linalg.det(mat)\n",
    "A.shape,B.shape"
   ]
  },
  {
   "cell_type": "code",
   "execution_count": 31,
   "metadata": {
    "scrolled": true
   },
   "outputs": [
    {
     "name": "stdout",
     "output_type": "stream",
     "text": [
      "1.0506316319596003 2.19315898748676e-10\n",
      "1.0506316319600082 2.0167534306580196e-10\n",
      "1.0506316319604163 1.8402368515268167e-10\n",
      "1.0506316319608242 1.6638224129138796e-10\n",
      "1.0506316319612323 1.4873235973510705e-10\n",
      "1.0506316319616402 1.3109047178460346e-10\n",
      "1.0506316319620483 1.1344059022832258e-10\n",
      "1.0506316319624562 9.579870227781898e-11\n",
      "1.0506316319628641 7.81568143273154e-11\n",
      "1.0506316319632723 6.050737686024436e-11\n",
      "1.0506316319636801 4.286504482053092e-11\n",
      "1.0506316319640883 2.521516326425004e-11\n",
      "1.0506316319644962 7.573275313746452e-12\n",
      "1.0506316319649043 -1.0077494420954141e-11\n",
      "1.0506316319653122 -2.7718494193038027e-11\n",
      "1.05063163196572 -4.5364378946430265e-11\n",
      "1.0506316319661282 -6.301514868113086e-11\n",
      "1.050631631966536 -8.06565925424246e-11\n",
      "1.0506316319669442 -9.830736227712517e-11\n",
      "1.050631631967352 -1.1594880613841891e-10\n",
      "1.0506316319677602 -1.335986876946998e-10\n",
      "1.0506316319681681 -1.5124013155599355e-10\n",
      "1.050631631968576 -1.6888201950649714e-10\n",
      "1.0506316319689841 -1.8653278924119773e-10\n",
      "1.050631631969392 -2.0417467719170131e-10\n",
      "1.0506316319698001 -2.2182411465877235e-10\n",
      "1.050631631970208 -2.3946555852006606e-10\n",
      "1.0506316319706162 -2.5711632825476665e-10\n",
      "1.050631631971024 -2.7475821620527024e-10\n",
      "1.050631631971432 -2.92399660066564e-10\n",
      "1.05063163197184 -3.1005398251494337e-10\n",
      "1.050631631972248 -3.2769587046544695e-10\n",
      "1.050631631972656 -3.4534664020014754e-10\n",
      "1.050631631973064 -3.629880840614413e-10\n",
      "1.050631631973472 -3.80638409706932e-10\n",
      "1.05063163197388 -3.982794094790159e-10\n",
      "1.0506316319742879 -4.1592085334030964e-10\n",
      "1.050631631974696 -4.335729553426398e-10\n",
      "1.050631631975104 -4.5121306693630397e-10\n",
      "1.050631631975512 -4.688638366710046e-10\n",
      "1.05063163197592 -4.865052805322983e-10\n",
      "1.050631631976328 -5.041551620885792e-10\n",
      "1.050631631976736 -5.217979382175025e-10\n",
      "1.0506316319771438 -5.394380498111667e-10\n",
      "1.050631631977552 -5.570888195458673e-10\n",
      "1.0506316319779598 -5.747307074963709e-10\n",
      "1.050631631978368 -5.923845858555404e-10\n",
      "1.0506316319787758 -6.100278060736736e-10\n",
      "1.050631631979184 -6.276781317191643e-10\n",
      "1.0506316319795919 -6.453191314912482e-10\n"
     ]
    }
   ],
   "source": [
    "t = np.linspace(1.0506316319596003,1.0506316319795919)\n",
    "for u in t:\n",
    "    print(u,f(u))\n"
   ]
  },
  {
   "cell_type": "code",
   "execution_count": 32,
   "metadata": {},
   "outputs": [],
   "source": [
    "\n",
    "x = np.zeros(t.size)\n",
    "i = 0\n",
    "for u in t:\n",
    "    x[i] = f(u)\n",
    "    i+=1"
   ]
  },
  {
   "cell_type": "code",
   "execution_count": 33,
   "metadata": {},
   "outputs": [
    {
     "data": {
      "text/plain": [
       "[<matplotlib.lines.Line2D at 0x22853b5e358>,\n",
       " <matplotlib.lines.Line2D at 0x22853b5e4a8>]"
      ]
     },
     "execution_count": 33,
     "metadata": {},
     "output_type": "execute_result"
    },
    {
     "data": {
      "image/png": "[encoded data removed]",
      "text/plain": [
       "<Figure size 432x288 with 1 Axes>"
      ]
     },
     "metadata": {
      "needs_background": "light"
     },
     "output_type": "display_data"
    }
   ],
   "source": [
    "plt.plot(t,np.zeros(t.size),t,x )"
   ]
  },
  {
   "cell_type": "code",
   "execution_count": null,
   "metadata": {},
   "outputs": [],
   "source": [
    "# solve for A-u^2B = 0 where 0 is a 8x1 vector of zeros nah it's just a "
   ]
  },
  {
   "cell_type": "code",
   "execution_count": 35,
   "metadata": {},
   "outputs": [
    {
     "data": {
      "text/plain": [
       "[<matplotlib.lines.Line2D at 0x22854be9b70>,\n",
       " <matplotlib.lines.Line2D at 0x22854be9cc0>]"
      ]
     },
     "execution_count": 35,
     "metadata": {},
     "output_type": "execute_result"
    },
    {
     "data": {
      "image/png": "[encoded data removed]",
      "text/plain": [
       "<Figure size 432x288 with 1 Axes>"
      ]
     },
     "metadata": {
      "needs_background": "light"
     },
     "output_type": "display_data"
    }
   ],
   "source": [
    "t = np.linspace(0,2)\n",
    "x = np.zeros(t.size)\n",
    "i = 0\n",
    "for u in t:\n",
    "    x[i] = f(u)\n",
    "    i+=1\n",
    "plt.plot(t,np.zeros(t.size),t,x )"
   ]
  },
  {
   "cell_type": "code",
   "execution_count": null,
   "metadata": {},
   "outputs": [],
   "source": []
  },
  {
   "cell_type": "code",
   "execution_count": null,
   "metadata": {},
   "outputs": [],
   "source": []
  },
  {
   "cell_type": "code",
   "execution_count": null,
   "metadata": {},
   "outputs": [],
   "source": []
  },
  {
   "cell_type": "code",
   "execution_count": 145,
   "metadata": {},
   "outputs": [
    {
     "data": {
      "text/plain": [
       "0.02728394230592035"
      ]
     },
     "execution_count": 145,
     "metadata": {},
     "output_type": "execute_result"
    }
   ],
   "source": [
    "f(1.0500006)"
   ]
  },
  {
   "cell_type": "code",
   "execution_count": null,
   "metadata": {},
   "outputs": [],
   "source": []
  }
 ],
 "metadata": {
  "kernelspec": {
   "display_name": "Python 3",
   "language": "python",
   "name": "python3"
  },
  "language_info": {
   "codemirror_mode": {
    "name": "ipython",
    "version": 3
   },
   "file_extension": ".py",
   "mimetype": "text/x-python",
   "name": "python",
   "nbconvert_exporter": "python",
   "pygments_lexer": "ipython3",
   "version": "3.7.1"
  }
 },
 "nbformat": 4,
 "nbformat_minor": 2
}
