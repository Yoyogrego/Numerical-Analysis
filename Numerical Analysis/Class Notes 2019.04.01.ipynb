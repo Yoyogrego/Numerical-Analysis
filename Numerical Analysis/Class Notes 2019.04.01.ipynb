{
 "cells": [
  {
   "cell_type": "code",
   "execution_count": 1,
   "metadata": {},
   "outputs": [],
   "source": [
    "import numpy as np\n",
    "import matplotlib.pyplot as plt"
   ]
  },
  {
   "cell_type": "code",
   "execution_count": 2,
   "metadata": {},
   "outputs": [],
   "source": [
    "def evalCH(t,x,coef):\n",
    "    a,b,c,d = coef\n",
    "    xL,xR = x\n",
    "    result = d*(t-xR)+c\n",
    "    result = result*(t-xL)+b\n",
    "    return result*(t-xL)+a"
   ]
  },
  {
   "cell_type": "code",
   "execution_count": 3,
   "metadata": {},
   "outputs": [],
   "source": [
    "def cubicH(x,y,s):\n",
    "    xL,xR = x\n",
    "    yL,yR = y\n",
    "    sL,sR = s\n",
    "    dx = xR-xL\n",
    "    dy = yR-yL\n",
    "    yp = dy/dx\n",
    "    a = yL\n",
    "    b = sL\n",
    "    c = (yp-sL)/dx\n",
    "    d = (sL+sR-2*yp)/(dx*dx)\n",
    "    return [a,b,c,d]"
   ]
  },
  {
   "cell_type": "code",
   "execution_count": 8,
   "metadata": {},
   "outputs": [],
   "source": [
    "def f(x):\n",
    "    return np.exp(-3*x)*np.cos(10*x)\n",
    "def fp(x):\n",
    "    return -3*np.exp(-3*x)*np.cos(10*x)-10*np.exp(-3*x)*np.sin(10*x)\n",
    "x = np.array([0,0.3])\n",
    "y = f(x)\n",
    "s = fp(x)"
   ]
  },
  {
   "cell_type": "code",
   "execution_count": 9,
   "metadata": {},
   "outputs": [
    {
     "data": {
      "text/plain": [
       "[1.0, -3.0, -5.5833434720954385, 77.5973076014236]"
      ]
     },
     "execution_count": 9,
     "metadata": {},
     "output_type": "execute_result"
    }
   ],
   "source": [
    "coef = cubicH(x,y,s)\n",
    "coef"
   ]
  },
  {
   "cell_type": "code",
   "execution_count": 12,
   "metadata": {},
   "outputs": [
    {
     "data": {
      "text/plain": [
       "[<matplotlib.lines.Line2D at 0x7f9d86f2eda0>,\n",
       " <matplotlib.lines.Line2D at 0x7f9d86f2eef0>]"
      ]
     },
     "execution_count": 12,
     "metadata": {},
     "output_type": "execute_result"
    },
    {
     "data": {
      "image/png": "[encoded data removed]",
      "text/plain": [
       "<Figure size 432x288 with 1 Axes>"
      ]
     },
     "metadata": {
      "needs_background": "light"
     },
     "output_type": "display_data"
    }
   ],
   "source": [
    "t = np.linspace(-0.1,0.4,1000)\n",
    "plt.plot(t,f(t),t,evalCH(t,x,coef))"
   ]
  },
  {
   "cell_type": "code",
   "execution_count": null,
   "metadata": {},
   "outputs": [],
   "source": []
  }
 ],
 "metadata": {
  "kernelspec": {
   "display_name": "Python 3",
   "language": "python",
   "name": "python3"
  },
  "language_info": {
   "codemirror_mode": {
    "name": "ipython",
    "version": 3
   },
   "file_extension": ".py",
   "mimetype": "text/x-python",
   "name": "python",
   "nbconvert_exporter": "python",
   "pygments_lexer": "ipython3",
   "version": "3.7.1"
  }
 },
 "nbformat": 4,
 "nbformat_minor": 2
}
