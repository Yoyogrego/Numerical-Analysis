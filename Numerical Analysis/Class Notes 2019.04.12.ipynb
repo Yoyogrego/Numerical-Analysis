{
 "cells": [
  {
   "cell_type": "code",
   "execution_count": 19,
   "metadata": {},
   "outputs": [],
   "source": [
    "import numpy as np\n",
    "import matplotlib.pyplot as plt"
   ]
  },
  {
   "cell_type": "code",
   "execution_count": 20,
   "metadata": {},
   "outputs": [],
   "source": [
    "def locate(t,x,g=0):\n",
    "    if x[g]<=t and t<=x[g+1]:\n",
    "        return g\n",
    "    left = 0\n",
    "    right = len(x)-1\n",
    "    while right>left+1:\n",
    "        mid = (right+left)//2\n",
    "        if t >= x[mid]:\n",
    "            left = mid\n",
    "        else:\n",
    "            right = mid\n",
    "    return left\n",
    "\n",
    "def pwC(x,y,s):\n",
    "    s = np.array(s)\n",
    "    y = np.array(y)\n",
    "    dx = np.diff(x)\n",
    "    dy = np.diff(y)\n",
    "    yp = dy/dx\n",
    "    a = y[:-1]\n",
    "    b = s[:-1]\n",
    "    c = (yp-s[:-1])/dx\n",
    "    d = (s[:-1]+s[1:]-2*yp)/(dx*dx)\n",
    "    return [a,b,c,d]\n",
    "\n",
    "def pwCEval(t,x,coef):\n",
    "    ta = np.array(t)\n",
    "    a,b,c,d = coef\n",
    "    result = np.empty(ta.size)\n",
    "    i = 0\n",
    "    for tk,k in zip(ta,range(ta.size)):\n",
    "        i = locate(tk,x,i)\n",
    "        result[k] = d[i]*(tk-x[i+1])+c[i]\n",
    "        result[k] = result[k]*(tk-x[i])+b[i]\n",
    "        result[k] = result[k]*(tk-x[i])+a[i]\n",
    "    return result"
   ]
  },
  {
   "cell_type": "code",
   "execution_count": 21,
   "metadata": {},
   "outputs": [],
   "source": [
    "def MyCubicSpline(x,y,der=3,muL=0,muR=0):\n",
    "    y = np.array(y)\n",
    "    dx = np.diff(x)\n",
    "    dy = np.diff(y)\n",
    "    yp = dy/dx\n",
    "    A = np.diag(2*(dx[1:]+dx[:-1]))+np.diag(dx[2:],-1)+np.diag(dx[:-2],1)\n",
    "    b = 3*(dx[:-1]*yp[1:]+dx[1:]*yp[:-1])\n",
    "    if der == 1:\n",
    "        b[0]  -= dx[1]*muL\n",
    "        b[-1] -= dx[-2]*muR\n",
    "        s = np.linalg.solve(A,b)\n",
    "        s = np.hstack((muL,s,muR))\n",
    "    elif der == 2:\n",
    "        bd1 = (6*yp[0]-muL*dx[0])/4\n",
    "        b[0] -= dx[1]*bd1\n",
    "        A[0,0] -= dx[1]/2\n",
    "        bdn = (6*yp[-1]-muL*dx[-1])/4\n",
    "        b[-1] -= dx[-2]*bdn\n",
    "        A[-1,-1] -= dx[-2]/2\n",
    "        s = np.linalg.solve(A,b)\n",
    "        s = np.hstack((bd1-s[0]/2,s,bdn-s[-1]/2))\n",
    "    elif der==3:\n",
    "        q = dx[0]*dx[0]/dx[1]\n",
    "        b[0] -= 2*(yp[0]*dx[1]-yp[1]*q)\n",
    "        A[0,0] += q-dx[1]\n",
    "        A[0,1] += q\n",
    "        q = dx[-1]*dx[-1]/dx[-2]\n",
    "        b[-1] -= 2*(yp[-1]*dx[-2]-yp[-2]*q)\n",
    "        A[-1,-1] += q-dx[-2]\n",
    "        A[-1,-2] += q\n",
    "        s = np.linalg.solve(A,b)\n",
    "        sL = 2*yp[0]-s[0]+((dx[0]/dx[1])**2)*(s[0]+s[1]-2*yp[1])\n",
    "        sR = 2*yp[-1]-s[-1]+((dx[-1]/dx[-2])**2)*(s[-1]+s[-2]-2*yp[-2])\n",
    "        s = np.hstack((sL,s,sR))\n",
    "    else:\n",
    "        print('d must be one of 1, 2 or 3')\n",
    "        return None\n",
    "    a = y[:-1]\n",
    "    b = s[:-1]\n",
    "    c = (yp-s[:-1])/dx\n",
    "    d = (s[:-1] + s[1:]-2*yp)/(dx*dx)\n",
    "    return a,b,c,d"
   ]
  },
  {
   "cell_type": "code",
   "execution_count": 22,
   "metadata": {},
   "outputs": [
    {
     "data": {
      "text/plain": [
       "(array([ 0.01158513,  0.25114688,  0.34117847,  0.46634141,  0.47093364,\n",
       "         0.48012784,  0.6508196 ,  0.65838037,  0.93072706,  0.95232592]),\n",
       " array([ 1.17970905, -1.09639002, -0.77522288,  1.67175715,  0.18173861,\n",
       "        -1.39785489, -0.53118793, -1.47402174,  0.09042527, -1.02373992]))"
      ]
     },
     "execution_count": 22,
     "metadata": {},
     "output_type": "execute_result"
    }
   ],
   "source": [
    "x = np.random.rand(10)\n",
    "x = np.sort(x)\n",
    "y = np.random.randn(10)\n",
    "x,y"
   ]
  },
  {
   "cell_type": "code",
   "execution_count": 23,
   "metadata": {},
   "outputs": [
    {
     "data": {
      "text/plain": [
       "[<matplotlib.lines.Line2D at 0x7f3ae33ea048>]"
      ]
     },
     "execution_count": 23,
     "metadata": {},
     "output_type": "execute_result"
    },
    {
     "data": {
      "image/png": "[encoded data removed]",
      "text/plain": [
       "<matplotlib.figure.Figure at 0x7f3ae34bd4a8>"
      ]
     },
     "metadata": {},
     "output_type": "display_data"
    }
   ],
   "source": [
    "plt.plot(x,y)"
   ]
  },
  {
   "cell_type": "code",
   "execution_count": 24,
   "metadata": {},
   "outputs": [],
   "source": [
    "coef = MyCubicSpline(x,y,der=2,muL=0,muR=0)"
   ]
  },
  {
   "cell_type": "code",
   "execution_count": 25,
   "metadata": {},
   "outputs": [
    {
     "data": {
      "text/plain": [
       "(array([ 1.17970905, -1.09639002, -0.77522288,  1.67175715,  0.18173861,\n",
       "        -1.39785489, -0.53118793, -1.47402174,  0.09042527]),\n",
       " array([   3.35661006,  -35.21650569,   95.63129253, -334.67075604,\n",
       "        -280.85301186, -107.90504128, -116.98483579, -124.31484804,\n",
       "         -39.88333243]),\n",
       " array([   -53.67177686,    430.77965397,   -607.85515678,   2222.33521235,\n",
       "         11860.71714345,    661.90906322,  -1020.53184798,    477.55002497,\n",
       "          -541.74693304]),\n",
       " array([ -2.24041505e+02,   6.57319262e+03,  -1.77546553e+04,\n",
       "          1.58411997e+06,  -5.34129563e+05,  -8.06724498e+03,\n",
       "          1.41729501e+05,  -2.36861776e+03,   1.25411010e+04]))"
      ]
     },
     "execution_count": 25,
     "metadata": {},
     "output_type": "execute_result"
    }
   ],
   "source": [
    "coef"
   ]
  },
  {
   "cell_type": "code",
   "execution_count": 15,
   "metadata": {
    "scrolled": true
   },
   "outputs": [
    {
     "data": {
      "text/plain": [
       "(-2, 2)"
      ]
     },
     "execution_count": 15,
     "metadata": {},
     "output_type": "execute_result"
    },
    {
     "data": {
      "image/png": "[encoded data removed]",
      "text/plain": [
       "<matplotlib.figure.Figure at 0x7f3ae35431d0>"
      ]
     },
     "metadata": {},
     "output_type": "display_data"
    }
   ],
   "source": [
    "t = np.linspace(min(x),max(x),10000)\n",
    "plt.plot(t,pwCEval(t,x,coef),x,y,'r.')\n",
    "plt.ylim(-2,2)"
   ]
  },
  {
   "cell_type": "code",
   "execution_count": 16,
   "metadata": {},
   "outputs": [],
   "source": [
    "coef = MyCubicSpline(x,y,der=3)"
   ]
  },
  {
   "cell_type": "code",
   "execution_count": 17,
   "metadata": {},
   "outputs": [
    {
     "data": {
      "text/plain": [
       "(array([ 0.32871923,  0.15505527,  1.13059447,  0.20304457,  1.08585763,\n",
       "        -2.41735083,  1.16264898, -0.73752321,  0.69061262]),\n",
       " array([ -41.66819304,   25.75958056,  -66.0356066 ,  130.72498438,\n",
       "          69.82701258,  -64.7244894 ,   35.78105346,  -78.98135959,\n",
       "          54.11595756]),\n",
       " array([  294.74000953,   -84.87476797,   702.32362474, -1707.19544933,\n",
       "        -5026.68459859,  3141.99467824, -2832.37082297,   972.21906665,\n",
       "         -703.05657731]),\n",
       " array([   -711.82607832,    -711.82607832,   15046.7801492 ,\n",
       "        -630847.7584883 ,  178840.46870455,  -89479.67323681,\n",
       "          66247.97615961,   -5853.91636292,   -5853.91636292]))"
      ]
     },
     "execution_count": 17,
     "metadata": {},
     "output_type": "execute_result"
    }
   ],
   "source": [
    "coef"
   ]
  },
  {
   "cell_type": "code",
   "execution_count": 18,
   "metadata": {
    "scrolled": true
   },
   "outputs": [
    {
     "data": {
      "text/plain": [
       "[<matplotlib.lines.Line2D at 0x7f3ae3479358>,\n",
       " <matplotlib.lines.Line2D at 0x7f3ae3479518>]"
      ]
     },
     "execution_count": 18,
     "metadata": {},
     "output_type": "execute_result"
    },
    {
     "data": {
      "image/png": "[encoded data removed]",
      "text/plain": [
       "<matplotlib.figure.Figure at 0x7f3ae34b90b8>"
      ]
     },
     "metadata": {},
     "output_type": "display_data"
    }
   ],
   "source": [
    "t = np.linspace(min(x),max(x),10000)\n",
    "plt.plot(t,pwCEval(t,x,coef),x,y,'r.')\n",
    "#plt.ylim(-2,2)"
   ]
  },
  {
   "cell_type": "code",
   "execution_count": null,
   "metadata": {},
   "outputs": [],
   "source": []
  },
  {
   "cell_type": "code",
   "execution_count": null,
   "metadata": {},
   "outputs": [],
   "source": []
  }
 ],
 "metadata": {
  "kernelspec": {
   "display_name": "Python 3",
   "language": "python",
   "name": "python3"
  },
  "language_info": {
   "codemirror_mode": {
    "name": "ipython",
    "version": 3
   },
   "file_extension": ".py",
   "mimetype": "text/x-python",
   "name": "python",
   "nbconvert_exporter": "python",
   "pygments_lexer": "ipython3",
   "version": "3.7.1"
  }
 },
 "nbformat": 4,
 "nbformat_minor": 2
}
