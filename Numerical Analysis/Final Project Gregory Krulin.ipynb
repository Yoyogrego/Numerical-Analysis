{
 "cells": [
  {
   "cell_type": "code",
   "execution_count": 64,
   "metadata": {},
   "outputs": [],
   "source": [
    "#Gregory Krulin\n",
    "import numpy as np\n",
    "import math\n",
    "import matplotlib.pyplot as plt\n",
    "from scipy.special import gamma\n",
    "from time import time\n"
   ]
  },
  {
   "cell_type": "markdown",
   "metadata": {},
   "source": [
    "## Problem 1.\n",
    "The *gamma function* is defined by\n",
    "$$\n",
    "    \\Gamma(x) = \\int_0^{\\infty} t^{x-1}e^{-t}\\,dt,\\quad x>0.\n",
    "$$\n",
    "For an integer argument $n$, the gamma function has the value\n",
    "$$\n",
    "    \\Gamma(n) = (n-1)!\n",
    "$$\n",
    "so interpolating the data points\n",
    "$$\n",
    "\\begin{matrix}\n",
    "t & 1 & 2 & 3 & 4 & 5\\cr\n",
    "y & 1 & 1 & 2 & 6 & 24\\cr\n",
    "\\end{matrix}\n",
    "$$\n",
    "should yield an approximation to the gamma function over the given range.\n",
    "\n",
    "1. Compute the polynomial of degree four that interpolates these five data points. Plot the resulting polynomial as well as the corresponding values given by the gamma function in the `math` module over the domain $[1,5]$.\n",
    "2. Use a cubic spline routine to interpolate the same data and again plot the resulting curve along with `math.gamma`.\n",
    "3. Which of the two interpolants is more accurate over most of the domain?\n",
    "4. Which of the two interpolants is more accurate between 1 and 2?"
   ]
  },
  {
   "cell_type": "code",
   "execution_count": 9,
   "metadata": {},
   "outputs": [
    {
     "name": "stdout",
     "output_type": "stream",
     "text": [
      "Help on built-in function gamma in module math:\n",
      "\n",
      "gamma(...)\n",
      "    gamma(x)\n",
      "    \n",
      "    Gamma function at x.\n",
      "\n"
     ]
    }
   ],
   "source": [
    "help(math.gamma)"
   ]
  },
  {
   "cell_type": "code",
   "execution_count": 46,
   "metadata": {},
   "outputs": [
    {
     "data": {
      "text/plain": [
       "[<matplotlib.lines.Line2D at 0x271a29d6cf8>,\n",
       " <matplotlib.lines.Line2D at 0x271a29d6e48>]"
      ]
     },
     "execution_count": 46,
     "metadata": {},
     "output_type": "execute_result"
    },
    {
     "data": {
      "image/png": "[encoded data removed]",
      "text/plain": [
       "<Figure size 432x288 with 1 Axes>"
      ]
     },
     "metadata": {
      "needs_background": "light"
     },
     "output_type": "display_data"
    }
   ],
   "source": [
    "t = np.linspace(1,5)\n",
    "g = []\n",
    "for x in t:\n",
    "    g.append(math.gamma(x))\n",
    "    \n",
    "x = np.array([1,2,3,4])\n",
    "y = np.zeros(x.size)\n",
    "for z in x:\n",
    "    y[z-1] = (math.gamma(z))\n",
    "\n",
    "def interpNrecursive(x,y):\n",
    "    c = np.empty(x.size)\n",
    "    c[0] = y[0]\n",
    "    if x.size>1:\n",
    "        c[1:] = interpNrecursive(x[1:],(y[1:]-y[0])/(x[1:]-x[0]))\n",
    "    return c\n",
    "\n",
    "def hornerN(t,x,c):\n",
    "    result = c[-1]\n",
    "    for xk,ck in zip(x[-2::-1],c[-2::-1]):\n",
    "        result = result*(t-xk)+ck\n",
    "    return result\n",
    "\n",
    "c = interpNrecursive(x,y)\n",
    "\n",
    "\n",
    "plt.plot(t, g, t, hornerN(t,x,c))"
   ]
  },
  {
   "cell_type": "code",
   "execution_count": 37,
   "metadata": {},
   "outputs": [
    {
     "data": {
      "text/plain": [
       "[<matplotlib.lines.Line2D at 0x271a27ad3c8>,\n",
       " <matplotlib.lines.Line2D at 0x271a27ad518>]"
      ]
     },
     "execution_count": 37,
     "metadata": {},
     "output_type": "execute_result"
    },
    {
     "data": {
      "image/png": "[encoded data removed]",
      "text/plain": [
       "<Figure size 432x288 with 1 Axes>"
      ]
     },
     "metadata": {
      "needs_background": "light"
     },
     "output_type": "display_data"
    }
   ],
   "source": [
    "t = np.linspace(1,5)\n",
    "g = []\n",
    "for x in t:\n",
    "    g.append(math.gamma(x))\n",
    "    \n",
    "def locate(t,x,g=0):\n",
    "    if x[g]<=t and t<=x[g+1]:\n",
    "        return g\n",
    "    left = 0\n",
    "    right = len(x)-1\n",
    "    while right>left+1:\n",
    "        mid = (right+left)//2\n",
    "        if t >= x[mid]:\n",
    "            left = mid\n",
    "        else:\n",
    "            right = mid\n",
    "    return left\n",
    "\n",
    "def pwC(x,y,s):\n",
    "    s = np.array(s)\n",
    "    y = np.array(y)\n",
    "    dx = np.diff(x)\n",
    "    dy = np.diff(y)\n",
    "    yp = dy/dx\n",
    "    a = y[:-1]\n",
    "    b = s[:-1]\n",
    "    c = (yp-s[:-1])/dx\n",
    "    d = (s[:-1]+s[1:]-2*yp)/(dx*dx)\n",
    "    return [a,b,c,d]\n",
    "\n",
    "def pwCEval(t,x,coef):\n",
    "    ta = np.array(t)\n",
    "    a,b,c,d = coef\n",
    "    result = np.empty(ta.size)\n",
    "    i = 0\n",
    "    for tk,k in zip(ta,range(ta.size)):\n",
    "        i = locate(tk,x,i)\n",
    "        result[k] = d[i]*(tk-x[i+1])+c[i]\n",
    "        result[k] = result[k]*(tk-x[i])+b[i]\n",
    "        result[k] = result[k]*(tk-x[i])+a[i]\n",
    "    return result\n",
    "\n",
    "def MyCubicSpline(x,y,der=3,muL=0,muR=0):\n",
    "    y = np.array(y)\n",
    "    dx = np.diff(x)\n",
    "    dy = np.diff(y)\n",
    "    yp = dy/dx\n",
    "    A = np.diag(2*(dx[1:]+dx[:-1]))+np.diag(dx[2:],-1)+np.diag(dx[:-2],1)\n",
    "    b = 3*(dx[:-1]*yp[1:]+dx[1:]*yp[:-1])\n",
    "    if der == 1:\n",
    "        b[0]  -= dx[1]*muL\n",
    "        b[-1] -= dx[-2]*muR\n",
    "        s = np.linalg.solve(A,b)\n",
    "        s = np.hstack((muL,s,muR))\n",
    "    elif der == 2:\n",
    "        bd1 = (6*yp[0]-muL*dx[0])/4\n",
    "        b[0] -= dx[1]*bd1\n",
    "        A[0,0] -= dx[1]/2\n",
    "        bdn = (6*yp[-1]-muL*dx[-1])/4\n",
    "        b[-1] -= dx[-2]*bdn\n",
    "        A[-1,-1] -= dx[-2]/2\n",
    "        s = np.linalg.solve(A,b)\n",
    "        s = np.hstack((bd1-s[0]/2,s,bdn-s[-1]/2))\n",
    "    elif der==3:\n",
    "        q = dx[0]*dx[0]/dx[1]\n",
    "        b[0] -= 2*(yp[0]*dx[1]-yp[1]*q)\n",
    "        A[0,0] += q-dx[1]\n",
    "        A[0,1] += q\n",
    "        q = dx[-1]*dx[-1]/dx[-2]\n",
    "        b[-1] -= 2*(yp[-1]*dx[-2]-yp[-2]*q)\n",
    "        A[-1,-1] += q-dx[-2]\n",
    "        A[-1,-2] += q\n",
    "        s = np.linalg.solve(A,b)\n",
    "        sL = 2*yp[0]-s[0]+((dx[0]/dx[1])**2)*(s[0]+s[1]-2*yp[1])\n",
    "        sR = 2*yp[-1]-s[-1]+((dx[-1]/dx[-2])**2)*(s[-1]+s[-2]-2*yp[-2])\n",
    "        s = np.hstack((sL,s,sR))\n",
    "    else:\n",
    "        print('d must be one of 1, 2 or 3')\n",
    "        return None\n",
    "    a = y[:-1]\n",
    "    b = s[:-1]\n",
    "    c = (yp-s[:-1])/dx\n",
    "    d = (s[:-1] + s[1:]-2*yp)/(dx*dx)\n",
    "    return a,b,c,d\n",
    "\n",
    "x = [1,2,3,4]\n",
    "y = []\n",
    "for z in x:\n",
    "    y.append(math.gamma(z))\n",
    "    \n",
    "coef = MyCubicSpline(x,y,der=2,muL=0,muR=0)\n",
    "\n",
    "plt.plot(t, g,t, pwCEval(t,x,coef))"
   ]
  },
  {
   "cell_type": "markdown",
   "metadata": {},
   "source": [
    "3. The polynomial interpolation method is more accurate for the most the domain.\n",
    "4. For the range of [1,2] the cubic spline interpolation is more accurate."
   ]
  },
  {
   "cell_type": "markdown",
   "metadata": {},
   "source": [
    "## Problem 2. and 3.\n",
    "Problems 10.8.18 and 15.7.7 from the text."
   ]
  },
  {
   "cell_type": "code",
   "execution_count": 61,
   "metadata": {},
   "outputs": [
    {
     "data": {
      "text/plain": [
       "[<matplotlib.lines.Line2D at 0x271a3fac0f0>,\n",
       " <matplotlib.lines.Line2D at 0x271a3fac240>]"
      ]
     },
     "execution_count": 61,
     "metadata": {},
     "output_type": "execute_result"
    },
    {
     "data": {
      "image/png": "[encoded data removed]",
      "text/plain": [
       "<Figure size 432x288 with 1 Axes>"
      ]
     },
     "metadata": {
      "needs_background": "light"
     },
     "output_type": "display_data"
    }
   ],
   "source": [
    "#10.8.18 (a) Interpolate the sinx function from [0,pi/2]\n",
    "\n",
    "pts = np.array([0,np.pi/6,np.pi/4,np.pi/3,np.pi/2])\n",
    "y = np.zeros(pts.size)\n",
    "for z in range(0,pts.size):\n",
    "    y[z] = np.sin(pts[z])\n",
    "    \n",
    "\n",
    "def interpNrecursive(x,y):\n",
    "    c = np.empty(x.size)\n",
    "    c[0] = y[0]\n",
    "    if x.size>1:\n",
    "        c[1:] = interpNrecursive(x[1:],(y[1:]-y[0])/(x[1:]-x[0]))\n",
    "    return c\n",
    "\n",
    "def hornerN(t,x,c):\n",
    "    result = c[-1]\n",
    "    for xk,ck in zip(x[-2::-1],c[-2::-1]):\n",
    "        result = result*(t-xk)+ck\n",
    "    return result\n",
    "\n",
    "c = interpNrecursive(pts,y)\n",
    "\n",
    "x = np.linspace(0,np.pi/2)\n",
    "p = np.polynomial.Chebyshev.fit(x, np.sin(x), 5)\n",
    "t = np.linspace(0,np.pi/2)\n",
    "\n",
    "plt.plot(t, hornerN(t,x,c), t, p(t))"
   ]
  },
  {
   "cell_type": "code",
   "execution_count": 60,
   "metadata": {},
   "outputs": [
    {
     "data": {
      "text/plain": [
       "[<matplotlib.lines.Line2D at 0x271a3f45e48>,\n",
       " <matplotlib.lines.Line2D at 0x271a3f45f98>]"
      ]
     },
     "execution_count": 60,
     "metadata": {},
     "output_type": "execute_result"
    },
    {
     "data": {
      "image/png": "[encoded data removed]",
      "text/plain": [
       "<Figure size 432x288 with 1 Axes>"
      ]
     },
     "metadata": {
      "needs_background": "light"
     },
     "output_type": "display_data"
    }
   ],
   "source": [
    "#10.8.18 (b) Repeat (a) but over interval [0, pi]\n",
    "pts = np.array([0,np.pi/6,np.pi/4,np.pi/3,np.pi/2])\n",
    "y = np.zeros(pts.size)\n",
    "for z in range(0,pts.size):\n",
    "    y[z] = np.sin(pts[z])\n",
    "    \n",
    "\n",
    "def interpNrecursive(x,y):\n",
    "    c = np.empty(x.size)\n",
    "    c[0] = y[0]\n",
    "    if x.size>1:\n",
    "        c[1:] = interpNrecursive(x[1:],(y[1:]-y[0])/(x[1:]-x[0]))\n",
    "    return c\n",
    "\n",
    "def hornerN(t,x,c):\n",
    "    result = c[-1]\n",
    "    for xk,ck in zip(x[-2::-1],c[-2::-1]):\n",
    "        result = result*(t-xk)+ck\n",
    "    return result\n",
    "\n",
    "c = interpNrecursive(pts,y)\n",
    "\n",
    "x = np.linspace(0,np.pi/2)\n",
    "p = np.polynomial.Chebyshev.fit(x, np.sin(x), 5)\n",
    "t = np.linspace(0,np.pi)\n",
    "\n",
    "plt.plot(t, hornerN(t,x,c), t, p(t))\n",
    "\n",
    "#go over these two cells, review notes of chebyshev polynomials. Does he want us to do numpy\n",
    "#or to create our own method?"
   ]
  },
  {
   "cell_type": "markdown",
   "metadata": {},
   "source": [
    "15.7.7 Use composite trapezoidal, midpoint and simpson methods to integrate the integrals below.\n",
    "\n",
    "(a) $\\int_0^1\\frac{4}{1+x^2}dx$\n",
    "\n",
    "(b) $\\int_0^1\\sqrt{x}dx$\n"
   ]
  },
  {
   "cell_type": "code",
   "execution_count": 62,
   "metadata": {},
   "outputs": [],
   "source": [
    "def NCweights(m):\n",
    "    \"\"\"\n",
    "    NCweights(m)\n",
    "        m is an integer that satisfies 2 <= m <= 13.\n",
    "        returns a numpy array consisting of the weights for the m-point Newton-Cotes rule.\n",
    "    Based on Matlab code of Charles Van Loan from Introduction to Scientific Computing: A\n",
    "    Matrix-Vector Approach Using Matlab.\n",
    "    \"\"\"\n",
    "    if m==2:\n",
    "        return np.array([1,1])/2\n",
    "    elif m==3:\n",
    "        return np.array([1,4,1])/6\n",
    "    elif m==4:\n",
    "        return np.array([1,3,3,1])/8\n",
    "    elif m==5:\n",
    "        return np.array([7,32,12,32,7])/90\n",
    "    elif m==6:\n",
    "        return np.array([19,75,50,50,75,19])/288\n",
    "    elif m==7:\n",
    "        return np.array([41,216,27,272,27,216,41])/840\n",
    "    elif m==8:\n",
    "        return np.array([751,3577,1323,2989,2989,1323,3577,751])/17280\n",
    "    elif m==9:\n",
    "        return np.array([989,5888,-928,10496,-4540,10496,-928,5888,989])/28350\n",
    "    elif m==10:\n",
    "        return np.array([2857,15741,1080,19344,5778,5778,19344,1080,15741,2857])/89600\n",
    "    elif m==11:\n",
    "        return np.array([16067,106300,-48525,272400,-260550,427368,-260550,272400,-48525,106300,16067])/598752\n",
    "    # Additional\n",
    "    elif m==12:\n",
    "        return np.array([2171465,13486539,-3237113,25226685,-9595542,15493566,\n",
    "                    15493566,-9595542,25226685,-3237113,13486539,2171465])/87091200\n",
    "    elif m==13:\n",
    "        return np.array([1364651,9903168,-7587864,35725120,-51491295,87516288,\n",
    "                    -87797136,87516288,-51491295,35725120,-7587864,9903168,\n",
    "                    1364651])/63063000\n",
    "    else:\n",
    "        return None\n",
    "    \n",
    "def QNC(f,a,b,m=3):\n",
    "    t = np.linspace(a,b,m)\n",
    "    return (b-a)*f(t).dot(NCweights(m))\n",
    "\n",
    "def NCOpenWeights(m):\n",
    "    \"\"\"\n",
    "    NCOpenWeights(m)\n",
    "\n",
    "        returns a numpy array consisting of the weights for the m-point open\n",
    "        Newton-Cotes rule.\n",
    "        m is an integer that satisfies 1 <= m <= 11.\n",
    "    Based on Matlab code of Charles Van Loan from Introduction to Scientific Computing: A\n",
    "    Matrix-Vector Approach Using Matlab.\n",
    "    \"\"\"\n",
    "    if m==1:\n",
    "        return np.array([1])\n",
    "    elif m==2:\n",
    "        return np.array([1,1])/2\n",
    "    elif m==3:\n",
    "        return np.array([2,-1,2])/3\n",
    "    elif m==4:\n",
    "        return np.array([11,1,1,11])/24\n",
    "    elif m==5:\n",
    "        return np.array([11,-14,26,-14,11])/20\n",
    "    elif m==6:\n",
    "        return np.array([611,-453,562,562,-453,611])/1440\n",
    "    elif m==7:\n",
    "        return np.array([460,-954,2196,-2459,2196,-954,460])/945\n",
    "    # Additional\n",
    "    elif m==8:\n",
    "        return np.array([1787,-2803,4967,-1711,-1711,4967,-2803,1787])/4480\n",
    "    elif m==9:\n",
    "        return np.array([4045,-11690,33340,-55070,67822,-55070,33340,-11690,4045])/9072\n",
    "    elif m==10:\n",
    "        return np.array([2752477,-6603199,15673880,-17085616,8891258,8891258,-17085616,\n",
    "                         15673880,-6603199,2752477])/7257600\n",
    "    elif m==11:\n",
    "        return np.array([9626,-35771,123058,-266298,427956,-494042,427956,-266298,123058,\n",
    "                         -35771,9626])/23100\n",
    "    else:\n",
    "        return None\n",
    "    \n",
    "\n",
    "\n",
    "def NCerror(a,b,m,M=1):\n",
    "    \"\"\"\n",
    "    NCerror(a,b,m,M)\n",
    "    The error bound for the m-point Newton Cotes rule when applied to\n",
    "    the integral from a to b of a function f(x). It is assumed that\n",
    "    a<=b and 2<=m<=13. M is an upper bound for the (d+1)-st derivative of the \n",
    "    function f(x) on [a,b] where d = m if m is odd, and m-1 if m is even. \n",
    "    Based on Matlab code of Charles Van Loan from Introduction to Scientific Computing: A\n",
    "    Matrix-Vector Approach Using Matlab.\n",
    "    \"\"\"\n",
    "    d = int(np.floor((m+1)/2)*2-1)\n",
    "    if m==2:\n",
    "        c = -1/12\n",
    "    elif m==3:   \n",
    "        c = -1/90\n",
    "    elif m==4:   \n",
    "        c = -3/80\n",
    "    elif m==5:\n",
    "        c = -8/945\n",
    "    elif m==6:\n",
    "        c = -275/12096\n",
    "    elif m==7:\n",
    "        c = -9/1400\n",
    "    elif m==8:\n",
    "        c = -8183/518400\n",
    "    elif m==9:\n",
    "        c = -2368/467775\n",
    "    elif m==10:\n",
    "        # c = -4671/394240\n",
    "        c = -173/14620\n",
    "    elif m==11:\n",
    "        c = -673175/163459296\n",
    "    # Additional\n",
    "    elif m==12:\n",
    "        c = -2224234463/237758976000\n",
    "    elif m==13:\n",
    "        c = -3012/875875\n",
    "    h = (b-a)/(m-1)\n",
    "    return abs(c*M*h**(d+2)),c,d\n",
    "\n",
    "def NCOpenError(a,b,m,M=1):\n",
    "    \"\"\"\n",
    "    NCerror(a,b,m,M)\n",
    "    The error bound for the m-point Newton Cotes rule when applied to\n",
    "    the integral from a to b of a function f(x). It is assumed that\n",
    "    a<=b and 1<=m<=11. M is an upper bound for the (d+1)-st derivative of the \n",
    "    function f(x) on [a,b] where d = m if m is odd, and m-1 if m is even. \n",
    "    Based on Matlab code of Charles Van Loan from Introduction to Scientific Computing: A\n",
    "    Matrix-Vector Approach Using Matlab.\n",
    "    \"\"\"\n",
    "    d = int(np.floor((m+1)/2)*2-1)\n",
    "    if m==1:\n",
    "        c = 1/3\n",
    "    elif m==2:\n",
    "        c = 3/4\n",
    "        # c = 1/4\n",
    "    elif m==3:   \n",
    "        # c = 28/90 # same\n",
    "        c = 14/45\n",
    "    elif m==4:   \n",
    "        c = 95/144\n",
    "    elif m==5:\n",
    "        c = 41/140\n",
    "    elif m==6:\n",
    "        c = 5257/8640\n",
    "    elif m==7:\n",
    "        c = 3956/14175\n",
    "    # Additional\n",
    "    elif m==8:\n",
    "        c = 25713/44800\n",
    "    elif m==9:\n",
    "        c = 80335/299376\n",
    "    elif m==10:\n",
    "        c = 4777223/8709120\n",
    "    elif m==11:\n",
    "        c = 1364651/5255250\n",
    "    h = (b-a)/(m+1)\n",
    "    return abs(c*M*h**(d+2)),c,d"
   ]
  },
  {
   "cell_type": "code",
   "execution_count": 78,
   "metadata": {},
   "outputs": [
    {
     "data": {
      "text/plain": [
       "(3.1333333333333333, 3.1333333333333333, 3.1415926535897922, 3.149803921568627)"
      ]
     },
     "execution_count": 78,
     "metadata": {},
     "output_type": "execute_result"
    }
   ],
   "source": [
    "def f(x):\n",
    "    return 4/(1+x**2)\n",
    "\n",
    "def g(x):\n",
    "    return np.sqrt(x)\n",
    "\n",
    "def QNCOpen(f,a,b,m):\n",
    "    x = np.linspace(a,b,m+2)[1:-1]\n",
    "    w = NCOpenWeights(m)\n",
    "    return (b-a)*f(x).dot(w)\n",
    "\n",
    "def QNC(f,a,b,m=3):\n",
    "    t = np.linspace(a,b,m)\n",
    "    return (b-a)*f(t).dot(NCweights(m))\n",
    "\n",
    "def CompQNC(f,a,b,m,n):\n",
    "    x = np.linspace(a,b,(m-1)*n+1)\n",
    "    y = f(x)\n",
    "    w = NCweights(m)\n",
    "    result = 0.0\n",
    "    first = 0;\n",
    "    last = m\n",
    "    for i in range(n):\n",
    "        result += w.dot(y[first:last])\n",
    "        first = last-1\n",
    "        last  = last+(m-1)\n",
    "    return result * (b-a) / n\n",
    "\n",
    "\n",
    "a = 0.0\n",
    "b = 1\n",
    "m = 3\n",
    "n = 100\n",
    "w = NCweights(m)\n",
    "x = np.linspace(a,b,m)\n",
    "fest = (f(x)*w).sum()*(b-a)\n",
    "f1 = QNC(f,a,b,m)\n",
    "f2 = CompQNC(f,a,b,m,n)\n",
    "fo = QNCOpen(f,a,b,m)\n",
    "gest = (g(x)*w).sum()*(b-a)\n",
    "g1 = QNC(g,a,b,m)\n",
    "g2 = CompQNC(g,a,b,m,n)\n",
    "go = QNCOpen(g,a,b,m)\n",
    "fest,f1,f2,fo"
   ]
  },
  {
   "cell_type": "code",
   "execution_count": 79,
   "metadata": {},
   "outputs": [
    {
     "data": {
      "text/plain": [
       "(0.6380711874576983,\n",
       " 0.6380711874576983,\n",
       " 0.6666379635700301,\n",
       " 0.6749813421274432)"
      ]
     },
     "execution_count": 79,
     "metadata": {},
     "output_type": "execute_result"
    }
   ],
   "source": [
    "gest,g1,g2,go"
   ]
  },
  {
   "cell_type": "markdown",
   "metadata": {},
   "source": [
    "## Problem 4.\n",
    "Use a Monte-Carlo simulation to estimate fair price for a European call option to buy one share of a stock currently trading at $\\$100$ for $\\$95$ in one year.  Assume that the risk-free interest rate $r$ is $0.06$ and that the volatility factor $\\sigma$ is $0.20$."
   ]
  },
  {
   "cell_type": "code",
   "execution_count": 10,
   "metadata": {},
   "outputs": [
    {
     "name": "stdout",
     "output_type": "stream",
     "text": [
      "European Option Value  13.943\n"
     ]
    }
   ],
   "source": [
    "\n",
    "S0 = 100 # initial value\n",
    "K  = 95 # strike price\n",
    "T  =   1 # time to maturity\n",
    "r  = 0.06 # risk-free interest rate.\n",
    "σ  = 0.20 # volatility \n",
    "\n",
    "M = 50 # number of time steps in my simulation\n",
    "dt = T / M # size of time step.\n",
    "I = 50000 # number of paths to simulate\n",
    "\n",
    "S = np.empty((M+1,I))\n",
    "S[0] = S0\n",
    "for t in range(1,M+1):\n",
    "    z = np.random.standard_normal(I)\n",
    "    S[t] = S[t-1]*np.exp((r-0.5*σ**2)*dt + σ*z*np.sqrt(dt))\n",
    "    \n",
    "C0 = np.exp(-r*T)*np.sum(np.maximum(S[-1]-K,0)) / I\n",
    "\n",
    "\n",
    "print(\"European Option Value %7.3f\" % C0)"
   ]
  },
  {
   "cell_type": "code",
   "execution_count": null,
   "metadata": {},
   "outputs": [],
   "source": []
  },
  {
   "cell_type": "code",
   "execution_count": null,
   "metadata": {},
   "outputs": [],
   "source": []
  },
  {
   "cell_type": "code",
   "execution_count": null,
   "metadata": {},
   "outputs": [],
   "source": []
  }
 ],
 "metadata": {
  "kernelspec": {
   "display_name": "Python 3",
   "language": "python",
   "name": "python3"
  },
  "language_info": {
   "codemirror_mode": {
    "name": "ipython",
    "version": 3
   },
   "file_extension": ".py",
   "mimetype": "text/x-python",
   "name": "python",
   "nbconvert_exporter": "python",
   "pygments_lexer": "ipython3",
   "version": "3.7.1"
  }
 },
 "nbformat": 4,
 "nbformat_minor": 2
}
