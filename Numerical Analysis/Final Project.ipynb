{
 "cells": [
  {
   "cell_type": "code",
   "execution_count": 7,
   "metadata": {},
   "outputs": [],
   "source": [
    "import numpy as np\n",
    "import math\n",
    "import matplotlib.pyplot as plt"
   ]
  },
  {
   "cell_type": "markdown",
   "metadata": {},
   "source": [
    "## Problem 1.\n",
    "The *gamma function* is defined by\n",
    "$$\n",
    "    \\Gamma(x) = \\int_0^{\\infty} t^{x-1}e^{-t}\\,dt,\\quad x>0.\n",
    "$$\n",
    "For an integer argument $n$, the gamma function has the value\n",
    "$$\n",
    "    \\Gamma(n) = (n-1)!\n",
    "$$\n",
    "so interpolating the data points\n",
    "$$\n",
    "\\begin{matrix}\n",
    "t & 1 & 2 & 3 & 4 & 5\\cr\n",
    "y & 1 & 1 & 2 & 6 & 24\\cr\n",
    "\\end{matrix}\n",
    "$$\n",
    "should yield an approximation to the gamma function over the given range.\n",
    "\n",
    "1. Compute the polynomial of degree four that interpolates these five data points. Plot the resulting polynomial as well as the corresponding values given by the gamma function in the `math` module over the domain $[1,5]$.\n",
    "2. Use a cubic spline routine to interpolate the same data and again plot the resulting curve along with `math.gamma`.\n",
    "3. Which of the two interpolants is more accurate over most of the domain?\n",
    "4. Which of the two interpolants is more accurate between 1 and 2?"
   ]
  },
  {
   "cell_type": "code",
   "execution_count": 9,
   "metadata": {},
   "outputs": [
    {
     "name": "stdout",
     "output_type": "stream",
     "text": [
      "Help on built-in function gamma in module math:\n",
      "\n",
      "gamma(...)\n",
      "    gamma(x)\n",
      "    \n",
      "    Gamma function at x.\n",
      "\n"
     ]
    }
   ],
   "source": [
    "help(math.gamma)"
   ]
  },
  {
   "cell_type": "markdown",
   "metadata": {},
   "source": [
    "## Problem 2. and 3.\n",
    "Problems 10.8.18 and 15.7.7 from the text."
   ]
  },
  {
   "cell_type": "markdown",
   "metadata": {},
   "source": [
    "## Problem 4.\n",
    "Use a Monte-Carlo simulation to estimate fair price for a European call option to buy one share of a stock currently trading at $\\$100$ for $\\$95$ in one year.  Assume that the risk-free interest rate $r$ is $0.06$ and that the volatility factor $\\sigma$ is $0.20$."
   ]
  },
  {
   "cell_type": "code",
   "execution_count": null,
   "metadata": {},
   "outputs": [],
   "source": []
  }
 ],
 "metadata": {
  "kernelspec": {
   "display_name": "Python 3.6 (Ubuntu)",
   "language": "python",
   "name": "python3"
  },
  "language_info": {
   "codemirror_mode": {
    "name": "ipython",
    "version": 3
   },
   "file_extension": ".py",
   "mimetype": "text/x-python",
   "name": "python",
   "nbconvert_exporter": "python",
   "pygments_lexer": "ipython3",
   "version": "3.6.7"
  }
 },
 "nbformat": 4,
 "nbformat_minor": 2
}
