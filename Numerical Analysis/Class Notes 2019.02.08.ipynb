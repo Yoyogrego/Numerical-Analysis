{
 "cells": [
  {
   "cell_type": "code",
   "execution_count": 1,
   "metadata": {},
   "outputs": [],
   "source": [
    "import numpy as np\n",
    "import matplotlib.pyplot as plt"
   ]
  },
  {
   "cell_type": "code",
   "execution_count": 2,
   "metadata": {},
   "outputs": [],
   "source": [
    "def stepper(x):\n",
    "    # Assume x is 1-d array\n",
    "    steps = 2*x.size-1\n",
    "    xs = np.zeros(steps)\n",
    "    ys = np.zeros(steps)\n",
    "    xs[::2] = x\n",
    "    xs[1::2] = x[:-1]\n",
    "    ys[1::2] = x[1:]\n",
    "    ys[2::2] = x[1:]\n",
    "    return xs, ys"
   ]
  },
  {
   "cell_type": "code",
   "execution_count": 3,
   "metadata": {},
   "outputs": [],
   "source": [
    "μ = 2.0\n",
    "def logistic(x):\n",
    "    return μ * x * (1-x)"
   ]
  },
  {
   "cell_type": "code",
   "execution_count": 4,
   "metadata": {},
   "outputs": [
    {
     "data": {
      "text/plain": [
       "[<matplotlib.lines.Line2D at 0x7f96e53bc5f8>,\n",
       " <matplotlib.lines.Line2D at 0x7f96e53bc7f0>]"
      ]
     },
     "execution_count": 4,
     "metadata": {},
     "output_type": "execute_result"
    },
    {
     "data": {
      "image/png": "[encoded data removed]",
      "text/plain": [
       "<Figure size 432x288 with 1 Axes>"
      ]
     },
     "metadata": {
      "needs_background": "light"
     },
     "output_type": "display_data"
    }
   ],
   "source": [
    "t = np.linspace(0,1,1000)\n",
    "plt.plot(t,t,t,logistic(t))"
   ]
  },
  {
   "cell_type": "code",
   "execution_count": 8,
   "metadata": {},
   "outputs": [
    {
     "name": "stdout",
     "output_type": "stream",
     "text": [
      " 0.320000000000000  0.180000000000000\n",
      " 0.435200000000000  0.064800000000000\n",
      " 0.491601920000000  0.008398080000000\n",
      " 0.499858944504627  0.000141055495373\n",
      " 0.499999960206694  0.000000039793306\n",
      " 0.499999999999997  0.000000000000003\n",
      " 0.500000000000000  0.000000000000000\n",
      " 0.500000000000000  0.000000000000000\n",
      " 0.500000000000000  0.000000000000000\n",
      " 0.500000000000000  0.000000000000000\n",
      " 0.500000000000000  0.000000000000000\n",
      " 0.500000000000000  0.000000000000000\n",
      " 0.500000000000000  0.000000000000000\n",
      " 0.500000000000000  0.000000000000000\n",
      " 0.500000000000000  0.000000000000000\n",
      " 0.500000000000000  0.000000000000000\n",
      " 0.500000000000000  0.000000000000000\n",
      " 0.500000000000000  0.000000000000000\n",
      " 0.500000000000000  0.000000000000000\n",
      " 0.500000000000000  0.000000000000000\n",
      " 0.500000000000000  0.000000000000000\n",
      " 0.500000000000000  0.000000000000000\n",
      " 0.500000000000000  0.000000000000000\n",
      " 0.500000000000000  0.000000000000000\n",
      " 0.500000000000000  0.000000000000000\n",
      " 0.500000000000000  0.000000000000000\n",
      " 0.500000000000000  0.000000000000000\n",
      " 0.500000000000000  0.000000000000000\n",
      " 0.500000000000000  0.000000000000000\n"
     ]
    }
   ],
   "source": [
    "x = np.zeros(30);\n",
    "x[0] =0.2\n",
    "for i in range(29):\n",
    "    x[i+1] = logistic(x[i])\n",
    "    print('%18.15f %18.15f' % (x[i+1],0.5-x[i+1]))"
   ]
  },
  {
   "cell_type": "code",
   "execution_count": 11,
   "metadata": {},
   "outputs": [],
   "source": [
    "a = 3.0\n",
    "def heron(x):\n",
    "    return (x + a/x)/2"
   ]
  },
  {
   "cell_type": "code",
   "execution_count": 12,
   "metadata": {},
   "outputs": [
    {
     "data": {
      "text/plain": [
       "[<matplotlib.lines.Line2D at 0x7f96e52cf780>,\n",
       " <matplotlib.lines.Line2D at 0x7f96e52cf8d0>]"
      ]
     },
     "execution_count": 12,
     "metadata": {},
     "output_type": "execute_result"
    },
    {
     "data": {
      "image/png": "[encoded data removed]",
      "text/plain": [
       "<Figure size 432x288 with 1 Axes>"
      ]
     },
     "metadata": {
      "needs_background": "light"
     },
     "output_type": "display_data"
    }
   ],
   "source": [
    "t = np.linspace(0.3,2.5,1000)\n",
    "plt.plot(t,t,t,heron(t))"
   ]
  },
  {
   "cell_type": "code",
   "execution_count": 14,
   "metadata": {},
   "outputs": [
    {
     "name": "stdout",
     "output_type": "stream",
     "text": [
      "1.6666666666666665 -0.22441709635925822\n",
      "1.471111111111111 -0.028861540803702734\n",
      "1.4428120982493433 -0.0005625279419350093\n",
      "1.4422497895989996 -2.1929159133016185e-07\n",
      "1.4422495703074416 -3.3306690738754696e-14\n",
      "1.4422495703074083 0.0\n",
      "1.4422495703074083 0.0\n",
      "1.4422495703074083 0.0\n",
      "1.4422495703074083 0.0\n",
      "1.4422495703074083 0.0\n"
     ]
    }
   ],
   "source": [
    "a = 3.0\n",
    "def f(x):\n",
    "    return x**3-a\n",
    "def fp(x):\n",
    "    return 3*x**2\n",
    "x0 = 1\n",
    "xn = x0\n",
    "for i in range(10):\n",
    "    xnp1 = xn - f(xn)/fp(xn)\n",
    "    print(xnp1,a**(1/3)-xnp1)\n",
    "    xn = xnp1"
   ]
  },
  {
   "cell_type": "code",
   "execution_count": 15,
   "metadata": {},
   "outputs": [
    {
     "name": "stdout",
     "output_type": "stream",
     "text": [
      "1.0\n",
      "0.7503638678402439\n",
      "0.7391128909113617\n",
      "0.739085133385284\n",
      "0.7390851332151607\n",
      "0.7390851332151607\n",
      "0.7390851332151607\n",
      "0.7390851332151607\n",
      "0.7390851332151607\n",
      "0.7390851332151607\n"
     ]
    }
   ],
   "source": [
    "def f(x):\n",
    "    return np.cos(x)-x\n",
    "def fp(x):\n",
    "    return -np.sin(x)-1\n",
    "x0 = 0.\n",
    "xn = x0\n",
    "for i in range(10):\n",
    "    xnp1 = xn - f(xn)/fp(xn)\n",
    "    print(xnp1)\n",
    "    xn = xnp1"
   ]
  },
  {
   "cell_type": "code",
   "execution_count": 17,
   "metadata": {},
   "outputs": [
    {
     "name": "stdout",
     "output_type": "stream",
     "text": [
      "1.0\n",
      "0.7503638678402439\n",
      "0.7391128909113617\n",
      "0.739085133385284\n",
      "0.7390851332151607\n"
     ]
    }
   ],
   "source": [
    "x0 = 0.0\n",
    "xn = x0\n",
    "tol = 1e-8\n",
    "error = 1\n",
    "while abs(error)>tol:\n",
    "    xnp1 = xn - f(xn)/fp(xn)\n",
    "    error = xnp1-xn\n",
    "    print(xnp1)\n",
    "    xn = xnp1"
   ]
  },
  {
   "cell_type": "code",
   "execution_count": null,
   "metadata": {},
   "outputs": [],
   "source": []
  }
 ],
 "metadata": {
  "kernelspec": {
   "display_name": "Python 3",
   "language": "python",
   "name": "python3"
  },
  "language_info": {
   "codemirror_mode": {
    "name": "ipython",
    "version": 3
   },
   "file_extension": ".py",
   "mimetype": "text/x-python",
   "name": "python",
   "nbconvert_exporter": "python",
   "pygments_lexer": "ipython3",
   "version": "3.7.1"
  }
 },
 "nbformat": 4,
 "nbformat_minor": 2
}
