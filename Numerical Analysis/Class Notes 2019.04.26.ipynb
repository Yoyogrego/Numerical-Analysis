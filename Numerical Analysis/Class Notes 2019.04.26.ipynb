{
 "cells": [
  {
   "cell_type": "code",
   "execution_count": 3,
   "metadata": {},
   "outputs": [],
   "source": [
    "import numpy as np\n",
    "from math import sqrt, exp, log\n",
    "from random import gauss, seed\n",
    "from time import time\n",
    "import matplotlib.pyplot as plt"
   ]
  },
  {
   "cell_type": "code",
   "execution_count": 18,
   "metadata": {},
   "outputs": [
    {
     "name": "stdout",
     "output_type": "stream",
     "text": [
      "European Option Value   8.014\n",
      "Duration (seconds)    6.384\n"
     ]
    }
   ],
   "source": [
    "seed(40000)\n",
    "t0 = time()\n",
    "\n",
    "S0 = 100 # initial value\n",
    "K  = 105 # strike price\n",
    "T  =   1 # time to maturity\n",
    "r  = 0.05 # risk-free interest rate.\n",
    "σ  = 0.20 # volatility \n",
    "\n",
    "M = 50 # number of time steps in my simulation\n",
    "dt = T / M # size of time step.\n",
    "I = 50000 # number of paths to simulate\n",
    "\n",
    "S = []\n",
    "for i in range(I):\n",
    "    path = []\n",
    "    for t in range(M+1):\n",
    "        if t==0:\n",
    "            path.append(S0)\n",
    "        else:\n",
    "            z = gauss(0,1)\n",
    "            St = path[-1]*exp((r-σ**2/2)*dt + σ*z*sqrt(dt))\n",
    "            path.append(St)\n",
    "    S.append(path)\n",
    "    \n",
    "C0 = exp(-r*T)*sum([max(path[-1]-K,0) for path in S]) / I\n",
    "\n",
    "tpy = time() -  t0\n",
    "print(\"European Option Value %7.3f\" % C0)\n",
    "print(\"Duration (seconds)  %7.3f\" % tpy)"
   ]
  },
  {
   "cell_type": "code",
   "execution_count": 5,
   "metadata": {},
   "outputs": [
    {
     "data": {
      "text/plain": [
       "[<matplotlib.lines.Line2D at 0x7f9ce36f9588>]"
      ]
     },
     "execution_count": 5,
     "metadata": {},
     "output_type": "execute_result"
    },
    {
     "data": {
      "image/png": "[encoded data removed]",
      "text/plain": [
       "<matplotlib.figure.Figure at 0x7f9d140fdba8>"
      ]
     },
     "metadata": {},
     "output_type": "display_data"
    }
   ],
   "source": [
    "plt.plot(S[1])"
   ]
  },
  {
   "cell_type": "code",
   "execution_count": 9,
   "metadata": {},
   "outputs": [
    {
     "data": {
      "text/plain": [
       "0"
      ]
     },
     "execution_count": 9,
     "metadata": {},
     "output_type": "execute_result"
    }
   ],
   "source": [
    "max(S[0][-1]-K,0)"
   ]
  },
  {
   "cell_type": "code",
   "execution_count": 15,
   "metadata": {},
   "outputs": [
    {
     "data": {
      "text/plain": [
       "8.036044799547048"
      ]
     },
     "execution_count": 15,
     "metadata": {},
     "output_type": "execute_result"
    }
   ],
   "source": [
    "tmp = exp(-r*T)*sum([max(path[-1]-K,0) for path in S]) / I\n",
    "tmp"
   ]
  },
  {
   "cell_type": "code",
   "execution_count": 24,
   "metadata": {},
   "outputs": [
    {
     "name": "stdout",
     "output_type": "stream",
     "text": [
      "European Option Value   8.056\n",
      "Duration (seconds)    0.443\n"
     ]
    }
   ],
   "source": [
    "np.random.seed(40000)\n",
    "t0 = time()\n",
    "\n",
    "S0 = 100 # initial value\n",
    "K  = 105 # strike price\n",
    "T  =   1 # time to maturity\n",
    "r  = 0.05 # risk-free interest rate.\n",
    "σ  = 0.20 # volatility \n",
    "\n",
    "M = 50 # number of time steps in my simulation\n",
    "dt = T / M # size of time step.\n",
    "I = 50000 # number of paths to simulate\n",
    "\n",
    "S = np.empty((M+1,I))\n",
    "S[0] = S0\n",
    "for t in range(1,M+1):\n",
    "    z = np.random.standard_normal(I)\n",
    "    S[t] = S[t-1]*np.exp((r-0.5*σ**2)*dt + σ*z*sqrt(dt))\n",
    "    \n",
    "C0 = exp(-r*T)*np.sum(np.maximum(S[-1]-K,0)) / I\n",
    "\n",
    "tpy = time() -  t0\n",
    "print(\"European Option Value %7.3f\" % C0)\n",
    "print(\"Duration (seconds)  %7.3f\" % tpy)"
   ]
  },
  {
   "cell_type": "code",
   "execution_count": null,
   "metadata": {},
   "outputs": [],
   "source": []
  }
 ],
 "metadata": {
  "kernelspec": {
   "display_name": "Python 3",
   "language": "python",
   "name": "python3"
  },
  "language_info": {
   "codemirror_mode": {
    "name": "ipython",
    "version": 3
   },
   "file_extension": ".py",
   "mimetype": "text/x-python",
   "name": "python",
   "nbconvert_exporter": "python",
   "pygments_lexer": "ipython3",
   "version": "3.7.1"
  }
 },
 "nbformat": 4,
 "nbformat_minor": 2
}
